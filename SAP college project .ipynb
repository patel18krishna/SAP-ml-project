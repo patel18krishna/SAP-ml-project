{
 "cells": [
  {
   "cell_type": "code",
   "execution_count": 1,
   "id": "77aee60b",
   "metadata": {},
   "outputs": [],
   "source": [
    "import speech_recognition as sr\n",
    "from gtts import gTTS\n",
    "from transformers import GPT2LMHeadModel, GPT2Tokenizer"
   ]
  },
  {
   "cell_type": "code",
   "execution_count": 2,
   "id": "a4a6a478",
   "metadata": {},
   "outputs": [],
   "source": [
    "def listen_for_wake_word():\n",
    "    r = sr.Recognizer()\n",
    "    with sr.Microphone() as source:\n",
    "        print(\"Listening for wake-up word...\")\n",
    "        audio = r.listen(source)\n",
    "\n",
    "    try:\n",
    "        print(\"Processing...\")\n",
    "        text = r.recognize_google(audio)\n",
    "        if \"bob\" in text.lower():\n",
    "            return True\n",
    "    except sr.UnknownValueError:\n",
    "        pass\n",
    "    except sr.RequestError as e:\n",
    "        print(\"Could not request results from Google Speech Recognition service\")\n",
    "    return False"
   ]
  },
  {
   "cell_type": "code",
   "execution_count": 3,
   "id": "0861504b",
   "metadata": {},
   "outputs": [],
   "source": [
    "def transcribe_audio():\n",
    "    r = sr.Recognizer()\n",
    "    with sr.Microphone() as source:\n",
    "        print(\"Listening for story input...\")\n",
    "        audio = r.listen(source)\n",
    "\n",
    "    try:\n",
    "        print(\"Transcribing...\")\n",
    "        text = r.recognize_google(audio)\n",
    "        print(\"Transcription:\", text)\n",
    "        return text\n",
    "    except sr.UnknownValueError:\n",
    "        print(\"Speech Recognition could not understand the audio\")\n",
    "    except sr.RequestError as e:\n",
    "        print(\"Could not request results from Google Speech Recognition service\")\n",
    "    return None\n"
   ]
  },
  {
   "cell_type": "code",
   "execution_count": 4,
   "id": "d7851886",
   "metadata": {},
   "outputs": [],
   "source": [
    "# Function to generate story prompt\n",
    "\n",
    "model_name = \"gpt2\"\n",
    "model = GPT2LMHeadModel.from_pretrained(model_name)\n",
    "tokenizer = GPT2Tokenizer.from_pretrained(model_name)\n",
    "\n",
    "def generate_story_prompt(prompt):\n",
    "    # Tokenize the prompt\n",
    "    input_ids = tokenizer.encode(prompt, return_tensors='pt')\n",
    "\n",
    "    # Generate story completion\n",
    "    output = model.generate(input_ids, max_length=150, num_beams=5, no_repeat_ngram_size=2, top_k=50, top_p=0.95)\n",
    "\n",
    "    # Decode and print the generated story\n",
    "    generated_story = tokenizer.decode(output[0], skip_special_tokens=True)\n",
    "    \n",
    "    return generated_story"
   ]
  },
  {
   "cell_type": "code",
   "execution_count": 5,
   "id": "296f756e",
   "metadata": {},
   "outputs": [],
   "source": [
    "# Function to convert text to speech\n",
    "def text_to_speech(text, output_path):\n",
    "    tts = gTTS(text=text, lang='en')\n",
    "    tts.save(output_path)"
   ]
  },
  {
   "cell_type": "code",
   "execution_count": 6,
   "id": "c919fbf5",
   "metadata": {},
   "outputs": [
    {
     "name": "stdout",
     "output_type": "stream",
     "text": [
      "Listening for wake-up word...\n",
      "Processing...\n",
      "Listening for story input...\n",
      "Transcribing...\n"
     ]
    },
    {
     "name": "stderr",
     "output_type": "stream",
     "text": [
      "D:\\installed softwares\\python\\lib\\site-packages\\transformers\\generation\\configuration_utils.py:386: UserWarning: `do_sample` is set to `False`. However, `top_p` is set to `0.95` -- this flag is only used in sample-based generation modes. You should set `do_sample=True` or unset `top_p`.\n",
      "  warnings.warn(\n",
      "The attention mask and the pad token id were not set. As a consequence, you may observe unexpected behavior. Please pass your input's `attention_mask` to obtain reliable results.\n",
      "Setting `pad_token_id` to `eos_token_id`:50256 for open-end generation.\n"
     ]
    },
    {
     "name": "stdout",
     "output_type": "stream",
     "text": [
      "Transcription: stop\n",
      "End of Program\n"
     ]
    }
   ],
   "source": [
    "import os\n",
    "\n",
    "\n",
    "# Main Program\n",
    "if __name__ == \"__main__\":\n",
    "    # Specify the directory to save the generated audio\n",
    "    output_directory = r\"C:\\Users\\Krishna Patel\\Downloads\"\n",
    "\n",
    "    # Ensure the directory exists, create it if not\n",
    "    os.makedirs(output_directory, exist_ok=True)\n",
    "\n",
    "    # Listen for wake-up word\n",
    "    while not listen_for_wake_word():\n",
    "        pass\n",
    "\n",
    "    # Transcribe audio to text\n",
    "    story_input = transcribe_audio()\n",
    "    \n",
    "    if story_input:\n",
    "        # Generate story prompt\n",
    "        prompt = generate_story_prompt(story_input)\n",
    "\n",
    "        # Convert text to speech\n",
    "        output_path = os.path.join(output_directory, \"generated_story_output.mp3\")\n",
    "        text_to_speech(prompt, output_path)\n",
    "\n",
    "    print(\"End of Program\")\n"
   ]
  },
  {
   "cell_type": "code",
   "execution_count": null,
   "id": "38da07bc",
   "metadata": {},
   "outputs": [],
   "source": []
  },
  {
   "cell_type": "code",
   "execution_count": null,
   "id": "8db07690",
   "metadata": {},
   "outputs": [],
   "source": []
  }
 ],
 "metadata": {
  "kernelspec": {
   "display_name": "Python 3 (ipykernel)",
   "language": "python",
   "name": "python3"
  },
  "language_info": {
   "codemirror_mode": {
    "name": "ipython",
    "version": 3
   },
   "file_extension": ".py",
   "mimetype": "text/x-python",
   "name": "python",
   "nbconvert_exporter": "python",
   "pygments_lexer": "ipython3",
   "version": "3.10.11"
  }
 },
 "nbformat": 4,
 "nbformat_minor": 5
}
